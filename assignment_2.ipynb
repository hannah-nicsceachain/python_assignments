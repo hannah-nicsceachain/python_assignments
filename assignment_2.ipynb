{
 "cells": [
  {
   "cell_type": "markdown",
   "metadata": {},
   "source": [
    "# Assignment \\#2 - the Facebook dataset\n",
    "\n",
    "Exploratory Data Analysis giving insights from the Facebook dataset.\n",
    "\n",
    "Source: http://www.kaggle.com\n",
    "\n",
    "**Features description**\n",
    "- *userid*: anonymized user id\n",
    "- *age*: age in years\n",
    "- *dob_day*: date of birth (day)\n",
    "- *dob_year*: date of birth (year)\n",
    "- *dob_month*: date of birth (month)\n",
    "- *gender*: gender\n",
    "- *tenure*: number of days in Facebook\n",
    "- *friend_count*: number of friends\n",
    "- *friendships_initiated*: number of friends initiated\n",
    "- *likes*: number of likes performed\n",
    "- *likes_received*: number of likes received\n",
    "- *mobile_likes*: number of mobile likes performed\n",
    "- *mobile_likes_received*: number of mobile likes received\n",
    "- *www_likes*: number of web likes performed\n",
    "- *www_likes_received*: number of web likes received"
   ]
  },
  {
   "cell_type": "markdown",
   "metadata": {},
   "source": [
    "#### Checklist before submitting your assignment:\n",
    "- Check individually each function by invoking it.\n",
    "- Check that functions which return floating point number, you round them to 1 decimal point.\n",
    "- Clean up your notebook before exporting it to Python format: remove unnecessary cells where you performed tests...\n",
    "- Check that the Python file do not contain any syntax error:\n",
    "    * Open a command window and type: python assignment_2.py\n",
    "    * Or copy paste the whole content of your Python file into a cell of your notebook and run it\n",
    "    * No error should be output!\n",
    "- Upload your file in the Google drive folder and check that the name of the file is appropriate, with no extra character, here: `assignment_2.py`"
   ]
  },
  {
   "cell_type": "markdown",
   "metadata": {},
   "source": [
    "**Questions**\n",
    "\n",
    "Load the dataset and answer to all questions by implementing a function with no arguments.\n",
    "\n",
    "The dataset should be downloaded, saved and unzip along with your notebook, NOT in a specific folder.\n",
    "\n",
    "The different functions should use one of the variables defined below (`df`, `df_female`, `df_male`) and perform the appropriate computation.\n",
    "\n",
    "Many questions deal with differences between females and males in the dataset.\n",
    "Therefore, we have computed and prepared 3 datasets which are to be used:\n",
    "- `df`: whole dataset,\n",
    "- `df_female`: dataset with females only,\n",
    "- `df_male`: dataset with males only.\n",
    "\n",
    "**Caution**: Questions asking to return a floating point number (mean, percentage) should round it to 1 decimal place:\n",
    "- Such questions are marked with `(°)`.\n",
    "- For instance, if the variable `result` is a floating point number, e.g. `3.14159265359`\n",
    "- The function should return `round(result, 1)` instead of `result`, e.g. `3.1`\n",
    "- Percentages should be returned as floating point numbers and not with the `%` mark.\n",
    "\n",
    "**Tip**: All questions might be answered without implementing any loop nor any if/else statement.\n",
    "\n",
    "**General questions**\n",
    "\n",
    "0) How many rows does the whole DataFrame have?\n",
    "\n",
    "1) How many columns does the whole DataFrame have?\n",
    "\n",
    "**Females and males**\n",
    "\n",
    "2) How many females are there in the dataset?\n",
    "\n",
    "3) How many males are there in the dataset?\n",
    "\n",
    "**Total number of likes performed**\n",
    "\n",
    "4) What is the total number of likes performed by females?\n",
    "\n",
    "5) What is the total number of likes performed by males?\n",
    "\n",
    "**Total number of likes received**\n",
    "\n",
    "6) What is the total number of likes received by females?\n",
    "\n",
    "7) What is the total number of likes received by males?\n",
    "\n",
    "**Mean age (°)**\n",
    "\n",
    "8) What is the mean age of females (°)?\n",
    "\n",
    "9) What is the mean age of males (°)?\n",
    "\n",
    "**Mean friend count (°)**\n",
    "\n",
    "10) What is the mean friend count of females (°)?\n",
    "\n",
    "11) What is the mean friend count of males (°)?\n",
    "\n",
    "**Mean number of likes performed (°)**\n",
    "\n",
    "12) What is the mean number of likes performed by females (°)?\n",
    "\n",
    "13) What is the mean number of likes performed by males (°)?\n",
    "\n",
    "**Mean number of likes received (°)**\n",
    "\n",
    "14) What is the mean number of likes received by females (°)?\n",
    "\n",
    "15) What is the mean number of likes received by males (°)?\n",
    "\n",
    "**Percentage who did not performed any like (°)**\n",
    "\n",
    "16) What is the percentage of females who did not performed any like (°)?\n",
    "\n",
    "17) What is the percentage of males who did not performed any like (°)?\n",
    "\n",
    "**Percentage who did not received any like (°)**\n",
    "\n",
    "18) What is the percentage of females who did not received any like (°)?\n",
    "\n",
    "19) What is the percentage of males who did not received any like( °)?\n",
    "\n",
    "**Percentage of mobile likes performed compared to all likes performed (°)**\n",
    "\n",
    "20) What is the percentage of mobile likes performed by females compared to all likes performed by females (°)?\n",
    "\n",
    "21) What is the percentage of mobile likes performed by males compared to all likes performed by males (°)?\n",
    "\n",
    "**Percentage of mobile likes received compared to all likes received (°)**\n",
    "\n",
    "22) What is the percentage of mobile likes received by females compared to all likes received by females (°)?\n",
    "\n",
    "23) What is the percentage of mobile likes received by males compared to all likes received by males (°)?\n",
    "\n",
    "**Most frequent age**\n",
    "\n",
    "24) What is the most frequent age of all users?\n",
    "\n",
    "**Friendship vs friendships initiated (°)**\n",
    "\n",
    "25) What is the mean of the difference between friend count and friendships initiated for females (°)?\n",
    "\n",
    "26) What is the mean of the difference between friend count and friendships initiated for males (°)?\n",
    "\n",
    "**Months and days of the given date of birth (°)**\n",
    "\n",
    "The last 4 questions deal with the months and days used by Facebook users for their date of birth.\n",
    "\n",
    "The idea is that people do not give their actual date of birth. They often switch the actual month to Januray and the actual day to the first day of a month.\n",
    "\n",
    "The percentage of people being born in January is *circa* $100 \\times \\frac{1}{12}$ since there are 12 months in a year.\n",
    "\n",
    "We are going to compute the difference between the percentage found in the dataset and this theorical percentage.\n",
    "\n",
    "27) What is the difference between the percentage of females born in January and 100/12 (°)?\n",
    "\n",
    "28) What is the difference between the percentage of males born in January and 100/12 (°)?\n",
    "\n",
    "The percentage of people being born the first day of a month is *circa* $100 \\times \\frac{12}{365}$ since there are 12 days which are the first day of a month in a year and there are 365 days in a year (forget the leap years).\n",
    "\n",
    "We are going to compute the difference between the percentage found in the dataset and this theorical percentage.\n",
    "\n",
    "29) What is the difference between the percentage of females born the first day of a month and 1200/365 (°)?\n",
    "\n",
    "30) What is the difference between the percentage of males born the first day of a month and 1200/365 (°)?\n",
    "\n",
    "(°) Result of functions should be rounded to 1 decimal place.\n",
    "\n",
    "**Now you have a better idea of some differences between female and male Facebook users!**"
   ]
  },
  {
   "cell_type": "code",
   "execution_count": 27,
   "metadata": {
    "scrolled": true
   },
   "outputs": [],
   "source": [
    "# usual import and options\n",
    "import pandas as pd\n",
    "pd.set_option(\"display.max_rows\", 16)\n",
    "pd.set_option(\"display.max_columns\", 30)"
   ]
  },
  {
   "cell_type": "code",
   "execution_count": 28,
   "metadata": {
    "scrolled": true
   },
   "outputs": [
    {
     "data": {
      "text/html": [
       "<div>\n",
       "<style scoped>\n",
       "    .dataframe tbody tr th:only-of-type {\n",
       "        vertical-align: middle;\n",
       "    }\n",
       "\n",
       "    .dataframe tbody tr th {\n",
       "        vertical-align: top;\n",
       "    }\n",
       "\n",
       "    .dataframe thead th {\n",
       "        text-align: right;\n",
       "    }\n",
       "</style>\n",
       "<table border=\"1\" class=\"dataframe\">\n",
       "  <thead>\n",
       "    <tr style=\"text-align: right;\">\n",
       "      <th></th>\n",
       "      <th>userid</th>\n",
       "      <th>age</th>\n",
       "      <th>dob_day</th>\n",
       "      <th>dob_year</th>\n",
       "      <th>dob_month</th>\n",
       "      <th>gender</th>\n",
       "      <th>tenure</th>\n",
       "      <th>friend_count</th>\n",
       "      <th>friendships_initiated</th>\n",
       "      <th>likes</th>\n",
       "      <th>likes_received</th>\n",
       "      <th>mobile_likes</th>\n",
       "      <th>mobile_likes_received</th>\n",
       "      <th>www_likes</th>\n",
       "      <th>www_likes_received</th>\n",
       "    </tr>\n",
       "  </thead>\n",
       "  <tbody>\n",
       "    <tr>\n",
       "      <th>0</th>\n",
       "      <td>2094382</td>\n",
       "      <td>14</td>\n",
       "      <td>19</td>\n",
       "      <td>1999</td>\n",
       "      <td>11</td>\n",
       "      <td>male</td>\n",
       "      <td>266.0</td>\n",
       "      <td>0</td>\n",
       "      <td>0</td>\n",
       "      <td>0</td>\n",
       "      <td>0</td>\n",
       "      <td>0</td>\n",
       "      <td>0</td>\n",
       "      <td>0</td>\n",
       "      <td>0</td>\n",
       "    </tr>\n",
       "    <tr>\n",
       "      <th>1</th>\n",
       "      <td>1192601</td>\n",
       "      <td>14</td>\n",
       "      <td>2</td>\n",
       "      <td>1999</td>\n",
       "      <td>11</td>\n",
       "      <td>female</td>\n",
       "      <td>6.0</td>\n",
       "      <td>0</td>\n",
       "      <td>0</td>\n",
       "      <td>0</td>\n",
       "      <td>0</td>\n",
       "      <td>0</td>\n",
       "      <td>0</td>\n",
       "      <td>0</td>\n",
       "      <td>0</td>\n",
       "    </tr>\n",
       "    <tr>\n",
       "      <th>2</th>\n",
       "      <td>2083884</td>\n",
       "      <td>14</td>\n",
       "      <td>16</td>\n",
       "      <td>1999</td>\n",
       "      <td>11</td>\n",
       "      <td>male</td>\n",
       "      <td>13.0</td>\n",
       "      <td>0</td>\n",
       "      <td>0</td>\n",
       "      <td>0</td>\n",
       "      <td>0</td>\n",
       "      <td>0</td>\n",
       "      <td>0</td>\n",
       "      <td>0</td>\n",
       "      <td>0</td>\n",
       "    </tr>\n",
       "    <tr>\n",
       "      <th>3</th>\n",
       "      <td>1203168</td>\n",
       "      <td>14</td>\n",
       "      <td>25</td>\n",
       "      <td>1999</td>\n",
       "      <td>12</td>\n",
       "      <td>female</td>\n",
       "      <td>93.0</td>\n",
       "      <td>0</td>\n",
       "      <td>0</td>\n",
       "      <td>0</td>\n",
       "      <td>0</td>\n",
       "      <td>0</td>\n",
       "      <td>0</td>\n",
       "      <td>0</td>\n",
       "      <td>0</td>\n",
       "    </tr>\n",
       "    <tr>\n",
       "      <th>4</th>\n",
       "      <td>1733186</td>\n",
       "      <td>14</td>\n",
       "      <td>4</td>\n",
       "      <td>1999</td>\n",
       "      <td>12</td>\n",
       "      <td>male</td>\n",
       "      <td>82.0</td>\n",
       "      <td>0</td>\n",
       "      <td>0</td>\n",
       "      <td>0</td>\n",
       "      <td>0</td>\n",
       "      <td>0</td>\n",
       "      <td>0</td>\n",
       "      <td>0</td>\n",
       "      <td>0</td>\n",
       "    </tr>\n",
       "  </tbody>\n",
       "</table>\n",
       "</div>"
      ],
      "text/plain": [
       "    userid  age  dob_day  dob_year  dob_month  gender  tenure  friend_count  \\\n",
       "0  2094382   14       19      1999         11    male   266.0             0   \n",
       "1  1192601   14        2      1999         11  female     6.0             0   \n",
       "2  2083884   14       16      1999         11    male    13.0             0   \n",
       "3  1203168   14       25      1999         12  female    93.0             0   \n",
       "4  1733186   14        4      1999         12    male    82.0             0   \n",
       "\n",
       "   friendships_initiated  likes  likes_received  mobile_likes  \\\n",
       "0                      0      0               0             0   \n",
       "1                      0      0               0             0   \n",
       "2                      0      0               0             0   \n",
       "3                      0      0               0             0   \n",
       "4                      0      0               0             0   \n",
       "\n",
       "   mobile_likes_received  www_likes  www_likes_received  \n",
       "0                      0          0                   0  \n",
       "1                      0          0                   0  \n",
       "2                      0          0                   0  \n",
       "3                      0          0                   0  \n",
       "4                      0          0                   0  "
      ]
     },
     "execution_count": 28,
     "metadata": {},
     "output_type": "execute_result"
    }
   ],
   "source": [
    "# DO NOT MODIFY THIS CELL\n",
    "# MAKE SURE THAT THE FILE 'pseudo_facebook.csv' IS ALONG WITH THE DATASET 'pseudo_facebook.csv'\n",
    "# USE THE 3 VARIABLES: df, df_female, df_male IN YOUR FUNCTIONS\n",
    "# ALL FUNCTIONS SHOULD HAVE NO ARGUMENT\n",
    "\n",
    "# load the dataset and build subsets with females and males\n",
    "df = pd.read_csv('pseudo_facebook.csv')\n",
    "df_female = df.loc[df['gender'] == 'female']\n",
    "df_male = df.loc[df['gender'] == 'male']\n",
    "df.head()"
   ]
  },
  {
   "cell_type": "code",
   "execution_count": 29,
   "metadata": {
    "scrolled": true
   },
   "outputs": [
    {
     "data": {
      "text/plain": [
       "99003"
      ]
     },
     "execution_count": 29,
     "metadata": {},
     "output_type": "execute_result"
    }
   ],
   "source": [
    "# THIS IS AN EXAMPLE. THERE IS NOTHING TO DO. IT WILL NOT BE GRADED.\n",
    "# ALL FUNCTIONS SHOULD FOLLOW THE SAME PATTERN:\n",
    "# - DEFINITION OF THE FUNCTION: def exercise_XX():\n",
    "# - COMPUTATION OF THE RESULT: result = ...\n",
    "# - RETURN OF THE RESULT: return result\n",
    "\n",
    "# 0) How many rows does the dataFrame have?\n",
    "def exercise_00():\n",
    "    result = len(df)\n",
    "    return result\n",
    "\n",
    "# run and check\n",
    "exercise_00()"
   ]
  },
  {
   "cell_type": "code",
   "execution_count": 44,
   "metadata": {
    "scrolled": true
   },
   "outputs": [
    {
     "data": {
      "text/plain": [
       "15"
      ]
     },
     "execution_count": 44,
     "metadata": {},
     "output_type": "execute_result"
    }
   ],
   "source": [
    "# 1) How many columns does the DataFrame have?\n",
    "def exercise_01():\n",
    "    x = len(df.columns)\n",
    "    return x\n",
    "\n",
    "# run and check\n",
    "exercise_01()"
   ]
  },
  {
   "cell_type": "code",
   "execution_count": 45,
   "metadata": {
    "scrolled": true
   },
   "outputs": [
    {
     "data": {
      "text/plain": [
       "40254"
      ]
     },
     "execution_count": 45,
     "metadata": {},
     "output_type": "execute_result"
    }
   ],
   "source": [
    "# 2) How many females are there in the dataset?\n",
    "def exercise_02():\n",
    "    x = len(df_female)\n",
    "    return x\n",
    "\n",
    "# run and check\n",
    "exercise_02()"
   ]
  },
  {
   "cell_type": "code",
   "execution_count": 46,
   "metadata": {
    "scrolled": true
   },
   "outputs": [
    {
     "data": {
      "text/plain": [
       "58574"
      ]
     },
     "execution_count": 46,
     "metadata": {},
     "output_type": "execute_result"
    }
   ],
   "source": [
    "# 3) How many males are there in the dataset?\n",
    "def exercise_03():\n",
    "    x = len(df_male)\n",
    "    return x\n",
    "\n",
    "# run and check\n",
    "exercise_03()"
   ]
  },
  {
   "cell_type": "code",
   "execution_count": 47,
   "metadata": {
    "scrolled": true
   },
   "outputs": [
    {
     "data": {
      "text/plain": [
       "10468106"
      ]
     },
     "execution_count": 47,
     "metadata": {},
     "output_type": "execute_result"
    }
   ],
   "source": [
    "# 4) What is the total number of likes performed by females?\n",
    "def exercise_04():\n",
    "    x = df_female['likes'].sum()\n",
    "    return x\n",
    "\n",
    "# run and check\n",
    "exercise_04()"
   ]
  },
  {
   "cell_type": "code",
   "execution_count": 48,
   "metadata": {
    "scrolled": true
   },
   "outputs": [
    {
     "data": {
      "text/plain": [
       "4959923"
      ]
     },
     "execution_count": 48,
     "metadata": {},
     "output_type": "execute_result"
    }
   ],
   "source": [
    "# 5) What is the total number of likes performed by males?\n",
    "def exercise_05():\n",
    "    x = df_male['likes'].sum()\n",
    "    return x\n",
    "\n",
    "# run and check\n",
    "exercise_05()"
   ]
  },
  {
   "cell_type": "code",
   "execution_count": 117,
   "metadata": {
    "scrolled": true
   },
   "outputs": [
    {
     "data": {
      "text/plain": [
       "10121282"
      ]
     },
     "execution_count": 117,
     "metadata": {},
     "output_type": "execute_result"
    }
   ],
   "source": [
    "# 6) What is the total number of likes received by females?\n",
    "def exercise_06():\n",
    "    x = df_female['likes_received'].sum()\n",
    "    return x\n",
    "\n",
    "# run and check\n",
    "exercise_06()"
   ]
  },
  {
   "cell_type": "code",
   "execution_count": 50,
   "metadata": {
    "scrolled": true
   },
   "outputs": [
    {
     "data": {
      "text/plain": [
       "3977851"
      ]
     },
     "execution_count": 50,
     "metadata": {},
     "output_type": "execute_result"
    }
   ],
   "source": [
    "# 7) What is the total number of likes received by males?\n",
    "def exercise_07():\n",
    "    x = df_male['likes_received'].sum()\n",
    "    return x\n",
    "\n",
    "# run and check\n",
    "exercise_07()"
   ]
  },
  {
   "cell_type": "code",
   "execution_count": 38,
   "metadata": {
    "scrolled": true
   },
   "outputs": [
    {
     "data": {
      "text/plain": [
       "39.5"
      ]
     },
     "execution_count": 38,
     "metadata": {},
     "output_type": "execute_result"
    }
   ],
   "source": [
    "# 8) What is the mean age of females (°)?\n",
    "def exercise_08():\n",
    "    x = round(df_female['age'].mean(),1)\n",
    "    return x\n",
    "\n",
    "# run and check\n",
    "exercise_08()"
   ]
  },
  {
   "cell_type": "code",
   "execution_count": 39,
   "metadata": {
    "scrolled": true
   },
   "outputs": [
    {
     "data": {
      "text/plain": [
       "35.7"
      ]
     },
     "execution_count": 39,
     "metadata": {},
     "output_type": "execute_result"
    }
   ],
   "source": [
    "# 9) What is the mean age of males (°)?\n",
    "def exercise_09():\n",
    "    x= round(df_male['age'].mean(),1)\n",
    "    return x\n",
    "\n",
    "# run and check\n",
    "exercise_09()"
   ]
  },
  {
   "cell_type": "code",
   "execution_count": 40,
   "metadata": {
    "scrolled": true
   },
   "outputs": [
    {
     "data": {
      "text/plain": [
       "242.0"
      ]
     },
     "execution_count": 40,
     "metadata": {},
     "output_type": "execute_result"
    }
   ],
   "source": [
    "# 10) What is the mean friend count of females (°)?\n",
    "def exercise_10():\n",
    "    x = round(df_female['friend_count'].mean(),1)\n",
    "    return x\n",
    "\n",
    "# run and check\n",
    "exercise_10()"
   ]
  },
  {
   "cell_type": "code",
   "execution_count": 41,
   "metadata": {
    "scrolled": true
   },
   "outputs": [
    {
     "data": {
      "text/plain": [
       "165.0"
      ]
     },
     "execution_count": 41,
     "metadata": {},
     "output_type": "execute_result"
    }
   ],
   "source": [
    "# 11) What is the mean friend count of males (°)?\n",
    "def exercise_11():\n",
    "    x = round(df_male['friend_count'].mean(),1)\n",
    "    return x\n",
    "\n",
    "# run and check\n",
    "exercise_11()"
   ]
  },
  {
   "cell_type": "code",
   "execution_count": 42,
   "metadata": {
    "scrolled": true
   },
   "outputs": [
    {
     "data": {
      "text/plain": [
       "260.1"
      ]
     },
     "execution_count": 42,
     "metadata": {},
     "output_type": "execute_result"
    }
   ],
   "source": [
    "# 12) What is the mean number of likes performed by females (°)?\n",
    "def exercise_12():\n",
    "    x = round(df_female['likes'].mean(),1)\n",
    "    return x\n",
    "\n",
    "# run and check\n",
    "exercise_12()"
   ]
  },
  {
   "cell_type": "code",
   "execution_count": 43,
   "metadata": {
    "scrolled": true
   },
   "outputs": [
    {
     "data": {
      "text/plain": [
       "84.7"
      ]
     },
     "execution_count": 43,
     "metadata": {},
     "output_type": "execute_result"
    }
   ],
   "source": [
    "# 13) What is the mean number of likes performed by males (°)?\n",
    "def exercise_13():\n",
    "    x = round(df_male['likes'].mean(),1)\n",
    "    return x\n",
    "\n",
    "# run and check\n",
    "exercise_13()"
   ]
  },
  {
   "cell_type": "code",
   "execution_count": 51,
   "metadata": {
    "scrolled": true
   },
   "outputs": [
    {
     "data": {
      "text/plain": [
       "251.4"
      ]
     },
     "execution_count": 51,
     "metadata": {},
     "output_type": "execute_result"
    }
   ],
   "source": [
    "# 14) What is the mean number of likes received by females (°)?\n",
    "def exercise_14():\n",
    "    x = round(df_female['likes_received'].mean(),1)\n",
    "    return x\n",
    "\n",
    "# run and check\n",
    "exercise_14()"
   ]
  },
  {
   "cell_type": "code",
   "execution_count": 52,
   "metadata": {
    "scrolled": true
   },
   "outputs": [
    {
     "data": {
      "text/plain": [
       "67.9"
      ]
     },
     "execution_count": 52,
     "metadata": {},
     "output_type": "execute_result"
    }
   ],
   "source": [
    "# 15) What is the mean number of likes received by males (°)?\n",
    "def exercise_15():\n",
    "    x = round(df_male['likes_received'].mean(),1)\n",
    "    return x\n",
    "\n",
    "# run and check\n",
    "exercise_15()"
   ]
  },
  {
   "cell_type": "code",
   "execution_count": 112,
   "metadata": {
    "scrolled": true
   },
   "outputs": [
    {
     "data": {
      "text/plain": [
       "13.9"
      ]
     },
     "execution_count": 112,
     "metadata": {},
     "output_type": "execute_result"
    }
   ],
   "source": [
    "# 16) What percentage of females did not performed any like (°)?\n",
    "def exercise_16():\n",
    "    x = (len(df_female.loc[df_female['likes']==0])/len(df_female))*100\n",
    "    return round(x,1)\n",
    "\n",
    "# run and check\n",
    "exercise_16()"
   ]
  },
  {
   "cell_type": "code",
   "execution_count": 113,
   "metadata": {
    "scrolled": true
   },
   "outputs": [
    {
     "data": {
      "text/plain": [
       "28.5"
      ]
     },
     "execution_count": 113,
     "metadata": {},
     "output_type": "execute_result"
    }
   ],
   "source": [
    "# 17) What percentage of males did not performed any like (°)?\n",
    "def exercise_17():\n",
    "    x = (len(df_male.loc[df_male['likes']==0])/len(df_male))*100\n",
    "    return round(x,1)\n",
    "\n",
    "# run and check\n",
    "exercise_17()"
   ]
  },
  {
   "cell_type": "code",
   "execution_count": 114,
   "metadata": {
    "scrolled": true
   },
   "outputs": [
    {
     "data": {
      "text/plain": [
       "15.5"
      ]
     },
     "execution_count": 114,
     "metadata": {},
     "output_type": "execute_result"
    }
   ],
   "source": [
    "# 18) What percentage of females did not received any like (°)?\n",
    "def exercise_18():\n",
    "    x = (len(df_female.loc[df_female['likes_received']==0])/len(df_female))*100\n",
    "    return round(x,1)\n",
    "\n",
    "# run and check\n",
    "exercise_18()"
   ]
  },
  {
   "cell_type": "code",
   "execution_count": 115,
   "metadata": {
    "scrolled": true
   },
   "outputs": [
    {
     "data": {
      "text/plain": [
       "31.0"
      ]
     },
     "execution_count": 115,
     "metadata": {},
     "output_type": "execute_result"
    }
   ],
   "source": [
    "# 19) What percentage of males did not received any like (°)?\n",
    "def exercise_19():\n",
    "    x = (len(df_male.loc[df_male['likes_received']==0])/len(df_male))*100\n",
    "    return round(x,1)\n",
    "\n",
    "# run and check\n",
    "exercise_19()"
   ]
  },
  {
   "cell_type": "code",
   "execution_count": 116,
   "metadata": {
    "scrolled": true
   },
   "outputs": [
    {
     "data": {
      "text/plain": [
       "66.5"
      ]
     },
     "execution_count": 116,
     "metadata": {},
     "output_type": "execute_result"
    }
   ],
   "source": [
    "# 20) What is the percentage of mobile likes performed by females compared to all likes performed by females (°)?\n",
    "def exercise_20():\n",
    "    x = (df_female['mobile_likes'].sum()/df_female['likes'].sum())*100\n",
    "    return round(x,1)\n",
    "\n",
    "# run and check\n",
    "exercise_20()"
   ]
  },
  {
   "cell_type": "code",
   "execution_count": 58,
   "metadata": {
    "scrolled": true
   },
   "outputs": [
    {
     "data": {
      "text/plain": [
       "71.2"
      ]
     },
     "execution_count": 58,
     "metadata": {},
     "output_type": "execute_result"
    }
   ],
   "source": [
    "# 21) What is the percentage of mobile likes performed by males compared to all likes performed by males (°)?\n",
    "def exercise_21():\n",
    "    x = df_male['mobile_likes'].sum()\n",
    "    y = df_male['mobile_likes'].sum() + df_male['www_likes'].sum()\n",
    "    z = round((x/y)*100,1)\n",
    "    \n",
    "    return z\n",
    "    \n",
    "# run and check\n",
    "exercise_21()"
   ]
  },
  {
   "cell_type": "code",
   "execution_count": 118,
   "metadata": {
    "scrolled": true
   },
   "outputs": [
    {
     "data": {
      "text/plain": [
       "58.5"
      ]
     },
     "execution_count": 118,
     "metadata": {},
     "output_type": "execute_result"
    }
   ],
   "source": [
    "# 22) What is the percentage of mobile likes received by females compared to all likes received by females (°)?\n",
    "def exercise_22():\n",
    "    x = df_female['mobile_likes_received'].sum()\n",
    "    y = df_female['mobile_likes_received'].sum() + df_female['www_likes_received'].sum()\n",
    "    z = round((x/y)*100,1)\n",
    "    return z\n",
    "    \n",
    "# run and check\n",
    "exercise_22()"
   ]
  },
  {
   "cell_type": "code",
   "execution_count": 65,
   "metadata": {
    "scrolled": true
   },
   "outputs": [
    {
     "data": {
      "text/plain": [
       "60.1"
      ]
     },
     "execution_count": 65,
     "metadata": {},
     "output_type": "execute_result"
    }
   ],
   "source": [
    "# 23) What is the percentage of mobile likes received by males compared to all likes received by males (°)?\n",
    "def exercise_23():\n",
    "    x = df_male['mobile_likes_received'].sum()\n",
    "    y = df_male['mobile_likes_received'].sum() + df_male['www_likes_received'].sum()\n",
    "    z = round((x/y)*100,1)\n",
    "    return z\n",
    "\n",
    "# run and check\n",
    "exercise_23()"
   ]
  },
  {
   "cell_type": "code",
   "execution_count": 66,
   "metadata": {
    "scrolled": true
   },
   "outputs": [
    {
     "data": {
      "text/plain": [
       "18"
      ]
     },
     "execution_count": 66,
     "metadata": {},
     "output_type": "execute_result"
    }
   ],
   "source": [
    "# 24) What is the most frequent age of users?\n",
    "def exercise_24():\n",
    "    x = df['age'].value_counts().index[0]\n",
    "    return x\n",
    "\n",
    "# run and check\n",
    "exercise_24()"
   ]
  },
  {
   "cell_type": "code",
   "execution_count": 104,
   "metadata": {
    "scrolled": true
   },
   "outputs": [
    {
     "data": {
      "text/plain": [
       "128.1"
      ]
     },
     "execution_count": 104,
     "metadata": {},
     "output_type": "execute_result"
    }
   ],
   "source": [
    "# 25) What is the mean of the difference between friend count and friendships initiated for females (°)?\n",
    "def exercise_25():\n",
    "    x = df_female ['friend_count'] - df_female['friendships_initiated']\n",
    "    y = round(x.mean(),1)\n",
    "    return y\n",
    "\n",
    "# run and check\n",
    "exercise_25()"
   ]
  },
  {
   "cell_type": "code",
   "execution_count": 106,
   "metadata": {
    "scrolled": true
   },
   "outputs": [
    {
     "data": {
      "text/plain": [
       "62.0"
      ]
     },
     "execution_count": 106,
     "metadata": {},
     "output_type": "execute_result"
    }
   ],
   "source": [
    "# 26) What is the mean of the difference between friend count and friendships initiated for males (°)?\n",
    "def exercise_26():\n",
    "    \n",
    "    x = df_male['friend_count'] - df_male['friendships_initiated']\n",
    "    y = round(x.mean(),1)\n",
    "    return y\n",
    "\n",
    "# run and check\n",
    "exercise_26()"
   ]
  },
  {
   "cell_type": "code",
   "execution_count": 87,
   "metadata": {
    "scrolled": true
   },
   "outputs": [
    {
     "data": {
      "text/plain": [
       "1.6"
      ]
     },
     "execution_count": 87,
     "metadata": {},
     "output_type": "execute_result"
    }
   ],
   "source": [
    "# 27) What is the difference between the percentage of females born in January and 100/12 (°)?\n",
    "def exercise_27():\n",
    "    w = (df_female['dob_month']==1).sum()\n",
    "    x = len(df_female['dob_month'])\n",
    "    y = round((w/x)*100,1)\n",
    "    z = round(100/12,1)\n",
    "    \n",
    "    difference = round(abs(y-z),1)\n",
    "    \n",
    "    return difference\n",
    "\n",
    "\n",
    "# run and check\n",
    "exercise_27()"
   ]
  },
  {
   "cell_type": "code",
   "execution_count": 94,
   "metadata": {
    "scrolled": true
   },
   "outputs": [
    {
     "data": {
      "text/plain": [
       "4.9"
      ]
     },
     "execution_count": 94,
     "metadata": {},
     "output_type": "execute_result"
    }
   ],
   "source": [
    "# 28) What is the difference between the percentage of males born in January and 100/12 (°)?\n",
    "def exercise_28():\n",
    "    w = (df_male['dob_month']==1).sum()\n",
    "    x = len(df_male['dob_month'])\n",
    "    y = round((w/x)*100,1)\n",
    "    z = round(100/12,1)\n",
    "    \n",
    "    difference = round(abs(y-z),1)\n",
    "    \n",
    "    return difference\n",
    "    \n",
    " \n",
    "# run and check\n",
    "exercise_28()"
   ]
  },
  {
   "cell_type": "code",
   "execution_count": 96,
   "metadata": {
    "scrolled": true
   },
   "outputs": [
    {
     "data": {
      "text/plain": [
       "2.7"
      ]
     },
     "execution_count": 96,
     "metadata": {},
     "output_type": "execute_result"
    }
   ],
   "source": [
    "# 29) What is the difference between the percentage of females born the first of a month and 1200/365 (°)?\n",
    "def exercise_29():\n",
    "    w = (df_female['dob_day']==1).sum()\n",
    "    x = len(df_female['dob_day'])\n",
    "    y = round((w/x)*100,1)\n",
    "    z = round(1200/365,1)\n",
    "    \n",
    "    difference = round(abs(y-z),1)\n",
    "    \n",
    "    return difference\n",
    "\n",
    "# run and check\n",
    "exercise_29()"
   ]
  },
  {
   "cell_type": "code",
   "execution_count": 97,
   "metadata": {
    "scrolled": true
   },
   "outputs": [
    {
     "data": {
      "text/plain": [
       "6.0"
      ]
     },
     "execution_count": 97,
     "metadata": {},
     "output_type": "execute_result"
    }
   ],
   "source": [
    "# 30) What is the difference between the percentage of males born the first of a month and 1200/365 (°)?\n",
    "def exercise_30():\n",
    "    w = (df_male['dob_day']==1).sum()\n",
    "    x = len(df_male['dob_day'])\n",
    "    y = round ((w/x)*100,1)\n",
    "    z = round (1200/365,1)\n",
    "    \n",
    "    difference = round(abs(y-z),1)\n",
    "    \n",
    "    return difference\n",
    "\n",
    "# run and check\n",
    "exercise_30()"
   ]
  },
  {
   "cell_type": "code",
   "execution_count": null,
   "metadata": {},
   "outputs": [],
   "source": []
  }
 ],
 "metadata": {
  "kernelspec": {
   "display_name": "Python 3 (ipykernel)",
   "language": "python",
   "name": "python3"
  },
  "language_info": {
   "codemirror_mode": {
    "name": "ipython",
    "version": 3
   },
   "file_extension": ".py",
   "mimetype": "text/x-python",
   "name": "python",
   "nbconvert_exporter": "python",
   "pygments_lexer": "ipython3",
   "version": "3.9.7"
  }
 },
 "nbformat": 4,
 "nbformat_minor": 2
}
