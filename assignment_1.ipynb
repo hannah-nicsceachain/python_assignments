{
 "cells": [
  {
   "cell_type": "markdown",
   "metadata": {},
   "source": [
    "# Assignment \\#1 - the Python beginner\n",
    "\n",
    "0) Create a function which computes the area of a rectangle given its height and width. Example: given 10 and 20, should return 200.\n",
    "\n",
    "1) Create a function which given 2 booleans computes the exclusive OR (should return True if one boolean is True and the other boolean is False; and False if both booleans are True or both booleans are False). Example: given True and False, should return True.\n",
    "\n",
    "2) Create a function which given hours, minutes and seconds computes the total number of seconds. Example: given 1 hour, 1 minute and 1 second, should return 3661.\n",
    "\n",
    "3) Create a function which given an integer, compute the sum of all integers between this integer and its double included. Example: given 3, should return 18 (3 + 4 + 5 + 6).\n",
    "\n",
    "4) Create a function which given a string produces a 2 characters string with the first character of the initial string and the last one. If the initial string is empty, it should return an empty string. Example: given 'Python', should return 'Pn'.\n",
    "\n",
    "5) Create a function which given a string returns the sentence: 'The reverse of X is Y!' where X is the initial string and Y is the reverse of the initial string. Example: given 'Paris', should return 'The reverse of Paris is siraP!'.\n",
    "\n",
    "6) Create a function which given a string returns True if the letters of the string are unique and False otherwise. Example: given 'Python', should return True; and given 'alphabet', should return False.\n",
    "\n",
    "7) Create a function which given a string returns True if the string is a palindrome (e.g., a word which has the property of reading the same forwards as it does backwards) and False otherwise. Example, given 'tattarrattat', should return True; and given 'alphabet', should return False.\n",
    "\n",
    "8) Create a function which given 3 numbers returns the one which is in the middle. Example: given 9, 5 and 6, should return 6.\n",
    "\n",
    "9) Create a function which given a list of strings produces a string with the first character of each non empty string of the list. Example: given ['Hi', 'elephants', '', 'like', 'lazy', 'olives'], should return 'Hello'.\n",
    "\n",
    "10) Create a function which given a list of strings returns the longest one. Example: given ['Hi', 'elephants', '', 'like', 'lazy', 'olives'], should return 'elephants'."
   ]
  },
  {
   "cell_type": "code",
   "execution_count": 3,
   "metadata": {},
   "outputs": [],
   "source": [
    "# THIS IS AN EXAMPLE. THERE IS NOTHING TO DO. IT WILL NOT BE GRADED.\n",
    "# 0) Create a function which computes the area of a rectangle given its height and width.\n",
    "def exercise_00(height, width):\n",
    "    result = height * width\n",
    "    return result"
   ]
  },
  {
   "cell_type": "code",
   "execution_count": 4,
   "metadata": {},
   "outputs": [
    {
     "data": {
      "text/plain": [
       "200"
      ]
     },
     "execution_count": 4,
     "metadata": {},
     "output_type": "execute_result"
    }
   ],
   "source": [
    "# run and check\n",
    "exercise_00(10, 20)"
   ]
  },
  {
   "cell_type": "code",
   "execution_count": 5,
   "metadata": {},
   "outputs": [],
   "source": [
    "# 1) Create a function which given 2 booleans computes the exclusive OR.\n",
    "# (should return True if one boolean is True and the other boolean is false, False if both booleans are True or both booleans are False).\n",
    "def exercise_01(bool1, bool2):\n",
    "    # change the line 'result = None' to perform the appropriate calculation\n",
    "    if bool1 == bool2 :\n",
    "        result = False\n",
    "    else:\n",
    "        result = True\n",
    "    return result"
   ]
  },
  {
   "cell_type": "code",
   "execution_count": 6,
   "metadata": {},
   "outputs": [
    {
     "data": {
      "text/plain": [
       "True"
      ]
     },
     "execution_count": 6,
     "metadata": {},
     "output_type": "execute_result"
    }
   ],
   "source": [
    "# run and check\n",
    "exercise_01(True, False)"
   ]
  },
  {
   "cell_type": "code",
   "execution_count": 3,
   "metadata": {},
   "outputs": [],
   "source": [
    "# 2) Create a function which given hours, minutes and seconds computes the total of seconds.\n",
    "def exercise_02(hours, minutes, seconds):\n",
    "    # change the line 'result = None' to perform the appropriate calculation\n",
    "    y = hours*3600 + minutes*60 + seconds\n",
    "    return y"
   ]
  },
  {
   "cell_type": "code",
   "execution_count": 4,
   "metadata": {},
   "outputs": [
    {
     "data": {
      "text/plain": [
       "3661"
      ]
     },
     "execution_count": 4,
     "metadata": {},
     "output_type": "execute_result"
    }
   ],
   "source": [
    "# run and check\n",
    "exercise_02(1, 1, 1)"
   ]
  },
  {
   "cell_type": "code",
   "execution_count": 1,
   "metadata": {},
   "outputs": [],
   "source": [
    "# 3) Create a function which given an integer, compute the sum of all integers between this integer and its double included.\n",
    "def exercise_03(integer):\n",
    "    # change the line 'result = None' to perform the appropriate calculation\n",
    "    \n",
    "    y = 0 \n",
    "    for a in range(integer,(integer*2)+1):\n",
    "        y=y+a\n",
    "    return y"
   ]
  },
  {
   "cell_type": "code",
   "execution_count": 2,
   "metadata": {},
   "outputs": [
    {
     "data": {
      "text/plain": [
       "18"
      ]
     },
     "execution_count": 2,
     "metadata": {},
     "output_type": "execute_result"
    }
   ],
   "source": [
    "# run and check\n",
    "exercise_03(3)"
   ]
  },
  {
   "cell_type": "code",
   "execution_count": 10,
   "metadata": {},
   "outputs": [],
   "source": [
    "# 4) Create a function which given a string produces a 2 characters string with the first character of the initial string and the last one.\n",
    "# If the initial string is empty, it should return an empty string.\n",
    "def exercise_04(string):\n",
    "    # change the line 'result = None' to perform the appropriate calculation\n",
    "    y = string\n",
    "    if y == str(\"\"):\n",
    "        return print (str())\n",
    "    else:\n",
    "        return y [0] + y [-1]\n",
    "\n",
    "    return result"
   ]
  },
  {
   "cell_type": "code",
   "execution_count": 11,
   "metadata": {},
   "outputs": [
    {
     "data": {
      "text/plain": [
       "'Pn'"
      ]
     },
     "execution_count": 11,
     "metadata": {},
     "output_type": "execute_result"
    }
   ],
   "source": [
    "# run and check\n",
    "\n",
    "exercise_04('Python')"
   ]
  },
  {
   "cell_type": "code",
   "execution_count": 23,
   "metadata": {},
   "outputs": [],
   "source": [
    "# 5) Create a function which given a string returns the sentence: 'The reverse of X is Y!'\n",
    "def exercise_05(string):\n",
    "    # change the line 'result = None' to perform the appropriate calculation\n",
    "    y = string[::-1]\n",
    "    return(\" The reverse of \" + string + \" is \" + str(y))"
   ]
  },
  {
   "cell_type": "code",
   "execution_count": 24,
   "metadata": {},
   "outputs": [
    {
     "data": {
      "text/plain": [
       "' The reverse of Paris is siraP'"
      ]
     },
     "execution_count": 24,
     "metadata": {},
     "output_type": "execute_result"
    }
   ],
   "source": [
    "# run and check\n",
    "exercise_05('Paris')"
   ]
  },
  {
   "cell_type": "code",
   "execution_count": 27,
   "metadata": {},
   "outputs": [],
   "source": [
    "# 6) Create a function which given a string returns True if the letters of the string are unique and False otherwise.\n",
    "def exercise_06(string):\n",
    "    # change the line 'result = None' to perform the appropriate calculation\n",
    "    if len(string) == len (set(string)): \n",
    "          return True\n",
    "    else:\n",
    "          return False"
   ]
  },
  {
   "cell_type": "code",
   "execution_count": 28,
   "metadata": {},
   "outputs": [
    {
     "data": {
      "text/plain": [
       "True"
      ]
     },
     "execution_count": 28,
     "metadata": {},
     "output_type": "execute_result"
    }
   ],
   "source": [
    "# run and check\n",
    "exercise_06('Python')"
   ]
  },
  {
   "cell_type": "code",
   "execution_count": 33,
   "metadata": {},
   "outputs": [],
   "source": [
    "# 7) Create a function which given a string returns True if the string is a palindrome\n",
    "# (e.g., a word which has the property of reading the same forwards as it does backwards) and False otherwise.\n",
    "def exercise_07(string):\n",
    "    # change the line 'result = None' to perform the appropriate calculation\n",
    "    y = string [::-1]\n",
    "    if (y == string):\n",
    "        return True\n",
    "    else:\n",
    "        return False\n"
   ]
  },
  {
   "cell_type": "code",
   "execution_count": 34,
   "metadata": {},
   "outputs": [
    {
     "data": {
      "text/plain": [
       "True"
      ]
     },
     "execution_count": 34,
     "metadata": {},
     "output_type": "execute_result"
    }
   ],
   "source": [
    "# run and check\n",
    "exercise_07('tattarrattat')"
   ]
  },
  {
   "cell_type": "code",
   "execution_count": 37,
   "metadata": {},
   "outputs": [],
   "source": [
    "# 8) Create a function which given 3 numbers returns the one which is in the middle.\n",
    "def exercise_08(number1, number2, number3):\n",
    "    # change the line 'result = None' to perform the appropriate calculation\n",
    "    y = sorted ([number1, number2, number3])\n",
    "    return y[1]"
   ]
  },
  {
   "cell_type": "code",
   "execution_count": 38,
   "metadata": {},
   "outputs": [
    {
     "data": {
      "text/plain": [
       "6"
      ]
     },
     "execution_count": 38,
     "metadata": {},
     "output_type": "execute_result"
    }
   ],
   "source": [
    "# run and check\n",
    "exercise_08(9, 5, 6)"
   ]
  },
  {
   "cell_type": "code",
   "execution_count": 50,
   "metadata": {},
   "outputs": [],
   "source": [
    "# 9) Create a function which given a list of strings produces a string with the first character of each non empty string of the list.\n",
    "def exercise_09(list_of_strings):\n",
    "    # change the line 'result = None' to perform the appropriate calculation\n",
    "    y = [k for k in list_of_strings if k]\n",
    "    x = \"\"\n",
    "    for k in range(len(y)): \n",
    "        x = x + str(y[k][0])\n",
    "        \n",
    "    return x"
   ]
  },
  {
   "cell_type": "code",
   "execution_count": 51,
   "metadata": {},
   "outputs": [
    {
     "data": {
      "text/plain": [
       "'Hello'"
      ]
     },
     "execution_count": 51,
     "metadata": {},
     "output_type": "execute_result"
    }
   ],
   "source": [
    "# run and check\n",
    "exercise_09(['Hi', 'elephants', '', 'like', 'lazy', 'olives'])"
   ]
  },
  {
   "cell_type": "code",
   "execution_count": 5,
   "metadata": {},
   "outputs": [],
   "source": [
    "# 10) Create a function which given a list of strings returns the longest one.\n",
    "def exercise_10(list_of_strings):\n",
    "    # change the line 'result = None' to perform the appropriate calculation\n",
    "    result = max(list_of_strings, key=len)\n",
    "    return result"
   ]
  },
  {
   "cell_type": "code",
   "execution_count": 6,
   "metadata": {},
   "outputs": [
    {
     "data": {
      "text/plain": [
       "'elephants'"
      ]
     },
     "execution_count": 6,
     "metadata": {},
     "output_type": "execute_result"
    }
   ],
   "source": [
    "# run and check\n",
    "exercise_10(['Hi', 'elephants', '', 'like', 'lazy', 'olives'])"
   ]
  }
 ],
 "metadata": {
  "kernelspec": {
   "display_name": "Python 3 (ipykernel)",
   "language": "python",
   "name": "python3"
  },
  "language_info": {
   "codemirror_mode": {
    "name": "ipython",
    "version": 3
   },
   "file_extension": ".py",
   "mimetype": "text/x-python",
   "name": "python",
   "nbconvert_exporter": "python",
   "pygments_lexer": "ipython3",
   "version": "3.9.7"
  }
 },
 "nbformat": 4,
 "nbformat_minor": 2
}
